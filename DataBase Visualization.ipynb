{
 "cells": [
  {
   "cell_type": "markdown",
   "metadata": {},
   "source": [
    "# DataBase Visualization"
   ]
  },
  {
   "cell_type": "markdown",
   "metadata": {},
   "source": [
    "## Instructions"
   ]
  },
  {
   "cell_type": "markdown",
   "metadata": {},
   "source": [
    "Instruction:\n",
    "\n",
    "..."
   ]
  },
  {
   "cell_type": "code",
   "execution_count": null,
   "metadata": {},
   "outputs": [],
   "source": [
    "from IPython.core.display import HTML\n",
    "def css_styling():\n",
    "    styles = open(\"./css/style.css\", \"r\").read()\n",
    "    return HTML(styles)\n",
    "css_styling()"
   ]
  },
  {
   "cell_type": "code",
   "execution_count": null,
   "metadata": {},
   "outputs": [],
   "source": [
    "import sqlite3\n",
    "\n",
    "players = list()\n",
    "operations = list()\n",
    "roles = list()\n",
    "\n",
    "conn = sqlite3.connect('stats.sqlite')\n",
    "c = conn.cursor()\n",
    "for row in c.execute('SELECT * FROM Players ORDER BY Player'):\n",
    "    if row[1] > 10:\n",
    "        players.append(row)\n",
    "for row in c.execute('SELECT * FROM Operations ORDER BY Player'):\n",
    "    if any(row[0] in ls for ls in players):\n",
    "        operations.append(row)\n",
    "for row in c.execute('SELECT * FROM Roles ORDER BY Player'):\n",
    "    if any(row[0] in ls for ls in players):\n",
    "        roles.append(row)\n",
    "conn.close()"
   ]
  },
  {
   "cell_type": "markdown",
   "metadata": {},
   "source": [
    "## Display Full Database"
   ]
  },
  {
   "cell_type": "markdown",
   "metadata": {},
   "source": [
    "The following cell will display the stats of all players [PlayerName, Operations, Deaths]"
   ]
  },
  {
   "cell_type": "code",
   "execution_count": null,
   "metadata": {},
   "outputs": [],
   "source": [
    "from IPython.display import HTML, display\n",
    "display(HTML(\n",
    "    '<table class=\\\"playerTable\\\"><tr><th>Player</th><th>Operations</th><th>Deaths</th></tr>'+\n",
    "    '<tr>{}</tr></table>'.format(\n",
    "        '</tr><tr>'.join(\n",
    "            '<td>{}</td>'.format('</td><td>'.join(str(_) for _ in player)) for player in players)\n",
    "    )\n",
    " ))"
   ]
  },
  {
   "cell_type": "code",
   "execution_count": null,
   "metadata": {},
   "outputs": [],
   "source": [
    "from IPython.display import HTML, display\n",
    "display(HTML(\n",
    "    '<table class=\\\"playerTable\\\"><tr><th>Player</th><th>OperationName</th><th>OperationDate</th><th>OperationDuration</th><th>OperationDeaths</th></tr>'+\n",
    "    '<tr>{}</tr></table>'.format(\n",
    "        '</tr><tr>'.join(\n",
    "            '<td>{}</td>'.format('</td><td>'.join(str(_) for _ in operation)) for operation in operations)\n",
    "    )\n",
    " ))"
   ]
  },
  {
   "cell_type": "code",
   "execution_count": null,
   "metadata": {},
   "outputs": [],
   "source": [
    "from IPython.display import HTML, display\n",
    "display(HTML(\n",
    "    '<table class=\\\"playerTable\\\"><tr><th>Player</th><th>Role</th><th>Times Played</th></tr>'+\n",
    "    '<tr>{}</tr></table>'.format(\n",
    "        '</tr><tr>'.join(\n",
    "            '<td>{}</td>'.format('</td><td>'.join(str(_) for _ in role)) for role in roles)\n",
    "    )\n",
    " ))"
   ]
  }
 ],
 "metadata": {
  "kernelspec": {
   "display_name": "Python 3",
   "language": "python",
   "name": "python3"
  },
  "language_info": {
   "codemirror_mode": {
    "name": "ipython",
    "version": 3
   },
   "file_extension": ".py",
   "mimetype": "text/x-python",
   "name": "python",
   "nbconvert_exporter": "python",
   "pygments_lexer": "ipython3",
   "version": "3.6.4"
  }
 },
 "nbformat": 4,
 "nbformat_minor": 2
}
