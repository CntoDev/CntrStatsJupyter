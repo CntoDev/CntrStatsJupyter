{
 "cells": [
  {
   "cell_type": "markdown",
   "metadata": {},
   "source": [
    "# CNTR Stats Visualization"
   ]
  },
  {
   "cell_type": "markdown",
   "metadata": {},
   "source": [
    "## Instructions"
   ]
  },
  {
   "cell_type": "markdown",
   "metadata": {},
   "source": [
    "Instruction: \n",
    "1. Run the code cell 1 and 2\n",
    "2. Run other cells afterwards to visualize data"
   ]
  },
  {
   "cell_type": "code",
   "execution_count": 43,
   "metadata": {
    "scrolled": true
   },
   "outputs": [
    {
     "data": {
      "text/html": [
       "<style>\n",
       ".playerTable{\n",
       "    width: 100%;\n",
       "    text-align: left;\n",
       "    background-color: blue;\n",
       "}\n",
       "\n",
       ".playerTable td, #customers th {\n",
       "    text-align: left;\n",
       "    border: 1px solid #ddd;\n",
       "    padding: 8px;\n",
       "}\n",
       "\n",
       ".playerTable tr:nth-child(even){background-color: #f2f2f2;}\n",
       "\n",
       ".playerTable tr:hover {background-color: #ddd !important;}\n",
       "\n",
       ".playerTable th {\n",
       "    padding-top: 12px;\n",
       "    padding-bottom: 12px;\n",
       "    text-align: left;\n",
       "    background-color: #4CAF50;\n",
       "    color: white;\n",
       "}\n",
       "</style>"
      ],
      "text/plain": [
       "<IPython.core.display.HTML object>"
      ]
     },
     "execution_count": 43,
     "metadata": {},
     "output_type": "execute_result"
    }
   ],
   "source": [
    "from IPython.core.display import HTML\n",
    "def css_styling():\n",
    "    styles = open(\"./css/style.css\", \"r\").read()\n",
    "    return HTML(styles)\n",
    "css_styling()"
   ]
  },
  {
   "cell_type": "code",
   "execution_count": 44,
   "metadata": {},
   "outputs": [],
   "source": [
    "import sqlite3\n",
    "\n",
    "players = list()\n",
    "operations = list()\n",
    "roles = list()\n",
    "\n",
    "conn = sqlite3.connect('stats.sqlite')\n",
    "c = conn.cursor()\n",
    "for row in c.execute('SELECT * FROM Players ORDER BY Player'):\n",
    "    players.append(row)\n",
    "for row in c.execute('SELECT * FROM Operations ORDER BY Player'):\n",
    "    operations.append(row)\n",
    "for row in c.execute('SELECT * FROM Roles ORDER BY Player'):\n",
    "    roles.append(row)\n",
    "conn.close()"
   ]
  },
  {
   "cell_type": "markdown",
   "metadata": {},
   "source": [
    "## Data Visualization"
   ]
  },
  {
   "cell_type": "markdown",
   "metadata": {},
   "source": [
    "The following cell will display a scatter plot of the Operations/Deaths for every player."
   ]
  },
  {
   "cell_type": "code",
   "execution_count": 46,
   "metadata": {},
   "outputs": [
    {
     "data": {
      "text/html": [
       "\n",
       "\n",
       "<style>\n",
       "\n",
       "</style>\n",
       "\n",
       "<div id=\"fig_el4209618767240042321748766656\"></div>\n",
       "<script>\n",
       "function mpld3_load_lib(url, callback){\n",
       "  var s = document.createElement('script');\n",
       "  s.src = url;\n",
       "  s.async = true;\n",
       "  s.onreadystatechange = s.onload = callback;\n",
       "  s.onerror = function(){console.warn(\"failed to load library \" + url);};\n",
       "  document.getElementsByTagName(\"head\")[0].appendChild(s);\n",
       "}\n",
       "\n",
       "if(typeof(mpld3) !== \"undefined\" && mpld3._mpld3IsLoaded){\n",
       "   // already loaded: just create the figure\n",
       "   !function(mpld3){\n",
       "       \n",
       "       mpld3.draw_figure(\"fig_el4209618767240042321748766656\", {\"width\": 864.0, \"height\": 864.0, \"axes\": [{\"bbox\": [0.125, 0.125, 0.775, 0.755], \"xlim\": [9.491786140979688, 64.50821385902032], \"ylim\": [6.191568555310277, 89.80843144468973], \"xdomain\": [9.491786140979688, 64.50821385902032], \"ydomain\": [6.191568555310277, 89.80843144468973], \"xscale\": \"linear\", \"yscale\": \"linear\", \"axes\": [{\"position\": \"bottom\", \"nticks\": 8, \"tickvalues\": null, \"tickformat\": null, \"scale\": \"linear\", \"fontsize\": 10.0, \"grid\": {\"gridOn\": false}, \"visible\": true}, {\"position\": \"left\", \"nticks\": 10, \"tickvalues\": null, \"tickformat\": null, \"scale\": \"linear\", \"fontsize\": 10.0, \"grid\": {\"gridOn\": false}, \"visible\": true}], \"axesbg\": \"#EEEEEE\", \"axesbgalpha\": null, \"zoomable\": true, \"id\": \"el420961876721979800\", \"lines\": [], \"paths\": [], \"markers\": [], \"texts\": [{\"text\": \"Operations\", \"position\": [0.49999999999999994, -0.03219278881530535], \"coordinates\": \"axes\", \"h_anchor\": \"middle\", \"v_baseline\": \"hanging\", \"rotation\": -0.0, \"fontsize\": 10.0, \"color\": \"#000000\", \"alpha\": 1, \"zorder\": 3, \"id\": \"el420961876700568488\"}, {\"text\": \"Deaths\", \"position\": [-0.035282258064516125, 0.5], \"coordinates\": \"axes\", \"h_anchor\": \"middle\", \"v_baseline\": \"auto\", \"rotation\": -90.0, \"fontsize\": 10.0, \"color\": \"#000000\", \"alpha\": 1, \"zorder\": 3, \"id\": \"el420961876700708368\"}, {\"text\": \"Operations/Deaths - Scatter Plot of all players\", \"position\": [0.49999999999999994, 1.0091979396615158], \"coordinates\": \"axes\", \"h_anchor\": \"middle\", \"v_baseline\": \"auto\", \"rotation\": -0.0, \"fontsize\": 20.0, \"color\": \"#000000\", \"alpha\": 1, \"zorder\": 3, \"id\": \"el420961876742554456\"}], \"collections\": [{\"offsets\": \"data01\", \"xindex\": 0, \"yindex\": 1, \"paths\": [[[[0.0, -0.5], [0.13260155, -0.5], [0.25978993539242673, -0.44731684579412084], [0.3535533905932738, -0.3535533905932738], [0.44731684579412084, -0.25978993539242673], [0.5, -0.13260155], [0.5, 0.0], [0.5, 0.13260155], [0.44731684579412084, 0.25978993539242673], [0.3535533905932738, 0.3535533905932738], [0.25978993539242673, 0.44731684579412084], [0.13260155, 0.5], [0.0, 0.5], [-0.13260155, 0.5], [-0.25978993539242673, 0.44731684579412084], [-0.3535533905932738, 0.3535533905932738], [-0.44731684579412084, 0.25978993539242673], [-0.5, 0.13260155], [-0.5, 0.0], [-0.5, -0.13260155], [-0.44731684579412084, -0.25978993539242673], [-0.3535533905932738, -0.3535533905932738], [-0.25978993539242673, -0.44731684579412084], [-0.13260155, -0.5], [0.0, -0.5]], [\"M\", \"C\", \"C\", \"C\", \"C\", \"C\", \"C\", \"C\", \"C\", \"Z\"]]], \"pathtransforms\": [[10.0, 0.0, 0.0, 10.0, 0.0, 0.0]], \"alphas\": [0.3], \"edgecolors\": [\"#007F00\", \"#FF0000\", \"#000000\", \"#FF0000\", \"#FF0000\", \"#FF0000\", \"#FF0000\", \"#007F00\", \"#007F00\", \"#FF0000\", \"#007F00\", \"#FF0000\", \"#007F00\", \"#000000\", \"#000000\", \"#FF0000\", \"#007F00\", \"#FF0000\", \"#000000\", \"#FF0000\", \"#000000\", \"#000000\", \"#000000\", \"#FF0000\", \"#007F00\", \"#007F00\", \"#FF0000\", \"#FF0000\", \"#007F00\", \"#FF0000\", \"#000000\", \"#FF0000\", \"#FF0000\", \"#007F00\", \"#FF0000\", \"#007F00\", \"#FF0000\", \"#FF0000\", \"#FF0000\", \"#FF0000\", \"#000000\", \"#FF0000\", \"#007F00\", \"#FF0000\", \"#007F00\", \"#FF0000\"], \"facecolors\": [\"#007F00\", \"#FF0000\", \"#000000\", \"#FF0000\", \"#FF0000\", \"#FF0000\", \"#FF0000\", \"#007F00\", \"#007F00\", \"#FF0000\", \"#007F00\", \"#FF0000\", \"#007F00\", \"#000000\", \"#000000\", \"#FF0000\", \"#007F00\", \"#FF0000\", \"#000000\", \"#FF0000\", \"#000000\", \"#000000\", \"#000000\", \"#FF0000\", \"#007F00\", \"#007F00\", \"#FF0000\", \"#FF0000\", \"#007F00\", \"#FF0000\", \"#000000\", \"#FF0000\", \"#FF0000\", \"#007F00\", \"#FF0000\", \"#007F00\", \"#FF0000\", \"#FF0000\", \"#FF0000\", \"#FF0000\", \"#000000\", \"#FF0000\", \"#007F00\", \"#FF0000\", \"#007F00\", \"#FF0000\"], \"edgewidths\": [1.0], \"offsetcoordinates\": \"data\", \"pathcoordinates\": \"display\", \"zorder\": 1, \"id\": \"el420961876742442232\"}], \"images\": [], \"sharex\": [], \"sharey\": []}], \"data\": {\"data01\": [[36.0, 32.0], [19.0, 25.0], [38.0, 38.0], [31.0, 36.0], [36.0, 46.0], [26.0, 33.0], [45.0, 57.0], [18.0, 16.0], [37.0, 25.0], [21.0, 32.0], [33.0, 28.0], [28.0, 36.0], [47.0, 41.0], [27.0, 28.0], [43.0, 40.0], [43.0, 52.0], [33.0, 19.0], [20.0, 23.0], [12.0, 11.0], [44.0, 57.0], [35.0, 38.0], [36.0, 37.0], [25.0, 25.0], [12.0, 17.0], [17.0, 10.0], [59.0, 42.0], [21.0, 30.0], [13.0, 20.0], [14.0, 11.0], [43.0, 59.0], [17.0, 18.0], [21.0, 29.0], [62.0, 86.0], [41.0, 20.0], [27.0, 31.0], [28.0, 20.0], [34.0, 38.0], [15.0, 20.0], [59.0, 70.0], [51.0, 65.0], [28.0, 26.0], [12.0, 17.0], [26.0, 22.0], [14.0, 17.0], [28.0, 18.0], [24.0, 33.0]]}, \"id\": \"el420961876724004232\", \"plugins\": [{\"type\": \"reset\"}, {\"type\": \"zoom\", \"button\": true, \"enabled\": false}, {\"type\": \"boxzoom\", \"button\": true, \"enabled\": false}, {\"type\": \"tooltip\", \"id\": \"el420961876742442232\", \"labels\": [\"Abuk(36, 32)\", \"Alex(19, 25)\", \"Anders(38, 38)\", \"Arba(31, 36)\", \"Argon(36, 46)\", \"Berenton(26, 33)\", \"Churizo(45, 57)\", \"Clarke(18, 16)\", \"Cob(37, 25)\", \"Crystal(21, 32)\", \"Dachi(33, 28)\", \"Delta(28, 36)\", \"Dulabu(47, 41)\", \"Dvdesa(27, 28)\", \"Eistee(43, 40)\", \"Flo(43, 52)\", \"Freghar(33, 19)\", \"Goat(20, 23)\", \"Hadassa(12, 11)\", \"Henrik(44, 57)\", \"Highway(35, 38)\", \"Jash(36, 37)\", \"John(25, 25)\", \"Karl(12, 17)\", \"Lastmikoi(17, 10)\", \"Mother(59, 42)\", \"Ozzie(21, 30)\", \"Pantoufle(13, 20)\", \"Price(14, 11)\", \"Racoon(43, 59)\", \"Ryujin(17, 18)\", \"Sallal(21, 29)\", \"Seb(62, 86)\", \"Shails(41, 20)\", \"Shakan(27, 31)\", \"Shiny(28, 20)\", \"Skippy(34, 38)\", \"Smehlik(15, 20)\", \"Stuka(59, 70)\", \"Teddy(51, 65)\", \"Tropical(28, 26)\", \"Volken(12, 17)\", \"Xander(26, 22)\", \"Xerses(14, 17)\", \"Zjosua(28, 18)\", \"zcribe(24, 33)\"], \"hoffset\": 0, \"voffset\": 10, \"location\": \"mouse\"}]});\n",
       "   }(mpld3);\n",
       "}else if(typeof define === \"function\" && define.amd){\n",
       "   // require.js is available: use it to load d3/mpld3\n",
       "   require.config({paths: {d3: \"https://mpld3.github.io/js/d3.v3.min\"}});\n",
       "   require([\"d3\"], function(d3){\n",
       "      window.d3 = d3;\n",
       "      mpld3_load_lib(\"https://mpld3.github.io/js/mpld3.v0.3.1.dev1.js\", function(){\n",
       "         \n",
       "         mpld3.draw_figure(\"fig_el4209618767240042321748766656\", {\"width\": 864.0, \"height\": 864.0, \"axes\": [{\"bbox\": [0.125, 0.125, 0.775, 0.755], \"xlim\": [9.491786140979688, 64.50821385902032], \"ylim\": [6.191568555310277, 89.80843144468973], \"xdomain\": [9.491786140979688, 64.50821385902032], \"ydomain\": [6.191568555310277, 89.80843144468973], \"xscale\": \"linear\", \"yscale\": \"linear\", \"axes\": [{\"position\": \"bottom\", \"nticks\": 8, \"tickvalues\": null, \"tickformat\": null, \"scale\": \"linear\", \"fontsize\": 10.0, \"grid\": {\"gridOn\": false}, \"visible\": true}, {\"position\": \"left\", \"nticks\": 10, \"tickvalues\": null, \"tickformat\": null, \"scale\": \"linear\", \"fontsize\": 10.0, \"grid\": {\"gridOn\": false}, \"visible\": true}], \"axesbg\": \"#EEEEEE\", \"axesbgalpha\": null, \"zoomable\": true, \"id\": \"el420961876721979800\", \"lines\": [], \"paths\": [], \"markers\": [], \"texts\": [{\"text\": \"Operations\", \"position\": [0.49999999999999994, -0.03219278881530535], \"coordinates\": \"axes\", \"h_anchor\": \"middle\", \"v_baseline\": \"hanging\", \"rotation\": -0.0, \"fontsize\": 10.0, \"color\": \"#000000\", \"alpha\": 1, \"zorder\": 3, \"id\": \"el420961876700568488\"}, {\"text\": \"Deaths\", \"position\": [-0.035282258064516125, 0.5], \"coordinates\": \"axes\", \"h_anchor\": \"middle\", \"v_baseline\": \"auto\", \"rotation\": -90.0, \"fontsize\": 10.0, \"color\": \"#000000\", \"alpha\": 1, \"zorder\": 3, \"id\": \"el420961876700708368\"}, {\"text\": \"Operations/Deaths - Scatter Plot of all players\", \"position\": [0.49999999999999994, 1.0091979396615158], \"coordinates\": \"axes\", \"h_anchor\": \"middle\", \"v_baseline\": \"auto\", \"rotation\": -0.0, \"fontsize\": 20.0, \"color\": \"#000000\", \"alpha\": 1, \"zorder\": 3, \"id\": \"el420961876742554456\"}], \"collections\": [{\"offsets\": \"data01\", \"xindex\": 0, \"yindex\": 1, \"paths\": [[[[0.0, -0.5], [0.13260155, -0.5], [0.25978993539242673, -0.44731684579412084], [0.3535533905932738, -0.3535533905932738], [0.44731684579412084, -0.25978993539242673], [0.5, -0.13260155], [0.5, 0.0], [0.5, 0.13260155], [0.44731684579412084, 0.25978993539242673], [0.3535533905932738, 0.3535533905932738], [0.25978993539242673, 0.44731684579412084], [0.13260155, 0.5], [0.0, 0.5], [-0.13260155, 0.5], [-0.25978993539242673, 0.44731684579412084], [-0.3535533905932738, 0.3535533905932738], [-0.44731684579412084, 0.25978993539242673], [-0.5, 0.13260155], [-0.5, 0.0], [-0.5, -0.13260155], [-0.44731684579412084, -0.25978993539242673], [-0.3535533905932738, -0.3535533905932738], [-0.25978993539242673, -0.44731684579412084], [-0.13260155, -0.5], [0.0, -0.5]], [\"M\", \"C\", \"C\", \"C\", \"C\", \"C\", \"C\", \"C\", \"C\", \"Z\"]]], \"pathtransforms\": [[10.0, 0.0, 0.0, 10.0, 0.0, 0.0]], \"alphas\": [0.3], \"edgecolors\": [\"#007F00\", \"#FF0000\", \"#000000\", \"#FF0000\", \"#FF0000\", \"#FF0000\", \"#FF0000\", \"#007F00\", \"#007F00\", \"#FF0000\", \"#007F00\", \"#FF0000\", \"#007F00\", \"#000000\", \"#000000\", \"#FF0000\", \"#007F00\", \"#FF0000\", \"#000000\", \"#FF0000\", \"#000000\", \"#000000\", \"#000000\", \"#FF0000\", \"#007F00\", \"#007F00\", \"#FF0000\", \"#FF0000\", \"#007F00\", \"#FF0000\", \"#000000\", \"#FF0000\", \"#FF0000\", \"#007F00\", \"#FF0000\", \"#007F00\", \"#FF0000\", \"#FF0000\", \"#FF0000\", \"#FF0000\", \"#000000\", \"#FF0000\", \"#007F00\", \"#FF0000\", \"#007F00\", \"#FF0000\"], \"facecolors\": [\"#007F00\", \"#FF0000\", \"#000000\", \"#FF0000\", \"#FF0000\", \"#FF0000\", \"#FF0000\", \"#007F00\", \"#007F00\", \"#FF0000\", \"#007F00\", \"#FF0000\", \"#007F00\", \"#000000\", \"#000000\", \"#FF0000\", \"#007F00\", \"#FF0000\", \"#000000\", \"#FF0000\", \"#000000\", \"#000000\", \"#000000\", \"#FF0000\", \"#007F00\", \"#007F00\", \"#FF0000\", \"#FF0000\", \"#007F00\", \"#FF0000\", \"#000000\", \"#FF0000\", \"#FF0000\", \"#007F00\", \"#FF0000\", \"#007F00\", \"#FF0000\", \"#FF0000\", \"#FF0000\", \"#FF0000\", \"#000000\", \"#FF0000\", \"#007F00\", \"#FF0000\", \"#007F00\", \"#FF0000\"], \"edgewidths\": [1.0], \"offsetcoordinates\": \"data\", \"pathcoordinates\": \"display\", \"zorder\": 1, \"id\": \"el420961876742442232\"}], \"images\": [], \"sharex\": [], \"sharey\": []}], \"data\": {\"data01\": [[36.0, 32.0], [19.0, 25.0], [38.0, 38.0], [31.0, 36.0], [36.0, 46.0], [26.0, 33.0], [45.0, 57.0], [18.0, 16.0], [37.0, 25.0], [21.0, 32.0], [33.0, 28.0], [28.0, 36.0], [47.0, 41.0], [27.0, 28.0], [43.0, 40.0], [43.0, 52.0], [33.0, 19.0], [20.0, 23.0], [12.0, 11.0], [44.0, 57.0], [35.0, 38.0], [36.0, 37.0], [25.0, 25.0], [12.0, 17.0], [17.0, 10.0], [59.0, 42.0], [21.0, 30.0], [13.0, 20.0], [14.0, 11.0], [43.0, 59.0], [17.0, 18.0], [21.0, 29.0], [62.0, 86.0], [41.0, 20.0], [27.0, 31.0], [28.0, 20.0], [34.0, 38.0], [15.0, 20.0], [59.0, 70.0], [51.0, 65.0], [28.0, 26.0], [12.0, 17.0], [26.0, 22.0], [14.0, 17.0], [28.0, 18.0], [24.0, 33.0]]}, \"id\": \"el420961876724004232\", \"plugins\": [{\"type\": \"reset\"}, {\"type\": \"zoom\", \"button\": true, \"enabled\": false}, {\"type\": \"boxzoom\", \"button\": true, \"enabled\": false}, {\"type\": \"tooltip\", \"id\": \"el420961876742442232\", \"labels\": [\"Abuk(36, 32)\", \"Alex(19, 25)\", \"Anders(38, 38)\", \"Arba(31, 36)\", \"Argon(36, 46)\", \"Berenton(26, 33)\", \"Churizo(45, 57)\", \"Clarke(18, 16)\", \"Cob(37, 25)\", \"Crystal(21, 32)\", \"Dachi(33, 28)\", \"Delta(28, 36)\", \"Dulabu(47, 41)\", \"Dvdesa(27, 28)\", \"Eistee(43, 40)\", \"Flo(43, 52)\", \"Freghar(33, 19)\", \"Goat(20, 23)\", \"Hadassa(12, 11)\", \"Henrik(44, 57)\", \"Highway(35, 38)\", \"Jash(36, 37)\", \"John(25, 25)\", \"Karl(12, 17)\", \"Lastmikoi(17, 10)\", \"Mother(59, 42)\", \"Ozzie(21, 30)\", \"Pantoufle(13, 20)\", \"Price(14, 11)\", \"Racoon(43, 59)\", \"Ryujin(17, 18)\", \"Sallal(21, 29)\", \"Seb(62, 86)\", \"Shails(41, 20)\", \"Shakan(27, 31)\", \"Shiny(28, 20)\", \"Skippy(34, 38)\", \"Smehlik(15, 20)\", \"Stuka(59, 70)\", \"Teddy(51, 65)\", \"Tropical(28, 26)\", \"Volken(12, 17)\", \"Xander(26, 22)\", \"Xerses(14, 17)\", \"Zjosua(28, 18)\", \"zcribe(24, 33)\"], \"hoffset\": 0, \"voffset\": 10, \"location\": \"mouse\"}]});\n",
       "      });\n",
       "    });\n",
       "}else{\n",
       "    // require.js not available: dynamically load d3 & mpld3\n",
       "    mpld3_load_lib(\"https://mpld3.github.io/js/d3.v3.min.js\", function(){\n",
       "         mpld3_load_lib(\"https://mpld3.github.io/js/mpld3.v0.3.1.dev1.js\", function(){\n",
       "                 \n",
       "                 mpld3.draw_figure(\"fig_el4209618767240042321748766656\", {\"width\": 864.0, \"height\": 864.0, \"axes\": [{\"bbox\": [0.125, 0.125, 0.775, 0.755], \"xlim\": [9.491786140979688, 64.50821385902032], \"ylim\": [6.191568555310277, 89.80843144468973], \"xdomain\": [9.491786140979688, 64.50821385902032], \"ydomain\": [6.191568555310277, 89.80843144468973], \"xscale\": \"linear\", \"yscale\": \"linear\", \"axes\": [{\"position\": \"bottom\", \"nticks\": 8, \"tickvalues\": null, \"tickformat\": null, \"scale\": \"linear\", \"fontsize\": 10.0, \"grid\": {\"gridOn\": false}, \"visible\": true}, {\"position\": \"left\", \"nticks\": 10, \"tickvalues\": null, \"tickformat\": null, \"scale\": \"linear\", \"fontsize\": 10.0, \"grid\": {\"gridOn\": false}, \"visible\": true}], \"axesbg\": \"#EEEEEE\", \"axesbgalpha\": null, \"zoomable\": true, \"id\": \"el420961876721979800\", \"lines\": [], \"paths\": [], \"markers\": [], \"texts\": [{\"text\": \"Operations\", \"position\": [0.49999999999999994, -0.03219278881530535], \"coordinates\": \"axes\", \"h_anchor\": \"middle\", \"v_baseline\": \"hanging\", \"rotation\": -0.0, \"fontsize\": 10.0, \"color\": \"#000000\", \"alpha\": 1, \"zorder\": 3, \"id\": \"el420961876700568488\"}, {\"text\": \"Deaths\", \"position\": [-0.035282258064516125, 0.5], \"coordinates\": \"axes\", \"h_anchor\": \"middle\", \"v_baseline\": \"auto\", \"rotation\": -90.0, \"fontsize\": 10.0, \"color\": \"#000000\", \"alpha\": 1, \"zorder\": 3, \"id\": \"el420961876700708368\"}, {\"text\": \"Operations/Deaths - Scatter Plot of all players\", \"position\": [0.49999999999999994, 1.0091979396615158], \"coordinates\": \"axes\", \"h_anchor\": \"middle\", \"v_baseline\": \"auto\", \"rotation\": -0.0, \"fontsize\": 20.0, \"color\": \"#000000\", \"alpha\": 1, \"zorder\": 3, \"id\": \"el420961876742554456\"}], \"collections\": [{\"offsets\": \"data01\", \"xindex\": 0, \"yindex\": 1, \"paths\": [[[[0.0, -0.5], [0.13260155, -0.5], [0.25978993539242673, -0.44731684579412084], [0.3535533905932738, -0.3535533905932738], [0.44731684579412084, -0.25978993539242673], [0.5, -0.13260155], [0.5, 0.0], [0.5, 0.13260155], [0.44731684579412084, 0.25978993539242673], [0.3535533905932738, 0.3535533905932738], [0.25978993539242673, 0.44731684579412084], [0.13260155, 0.5], [0.0, 0.5], [-0.13260155, 0.5], [-0.25978993539242673, 0.44731684579412084], [-0.3535533905932738, 0.3535533905932738], [-0.44731684579412084, 0.25978993539242673], [-0.5, 0.13260155], [-0.5, 0.0], [-0.5, -0.13260155], [-0.44731684579412084, -0.25978993539242673], [-0.3535533905932738, -0.3535533905932738], [-0.25978993539242673, -0.44731684579412084], [-0.13260155, -0.5], [0.0, -0.5]], [\"M\", \"C\", \"C\", \"C\", \"C\", \"C\", \"C\", \"C\", \"C\", \"Z\"]]], \"pathtransforms\": [[10.0, 0.0, 0.0, 10.0, 0.0, 0.0]], \"alphas\": [0.3], \"edgecolors\": [\"#007F00\", \"#FF0000\", \"#000000\", \"#FF0000\", \"#FF0000\", \"#FF0000\", \"#FF0000\", \"#007F00\", \"#007F00\", \"#FF0000\", \"#007F00\", \"#FF0000\", \"#007F00\", \"#000000\", \"#000000\", \"#FF0000\", \"#007F00\", \"#FF0000\", \"#000000\", \"#FF0000\", \"#000000\", \"#000000\", \"#000000\", \"#FF0000\", \"#007F00\", \"#007F00\", \"#FF0000\", \"#FF0000\", \"#007F00\", \"#FF0000\", \"#000000\", \"#FF0000\", \"#FF0000\", \"#007F00\", \"#FF0000\", \"#007F00\", \"#FF0000\", \"#FF0000\", \"#FF0000\", \"#FF0000\", \"#000000\", \"#FF0000\", \"#007F00\", \"#FF0000\", \"#007F00\", \"#FF0000\"], \"facecolors\": [\"#007F00\", \"#FF0000\", \"#000000\", \"#FF0000\", \"#FF0000\", \"#FF0000\", \"#FF0000\", \"#007F00\", \"#007F00\", \"#FF0000\", \"#007F00\", \"#FF0000\", \"#007F00\", \"#000000\", \"#000000\", \"#FF0000\", \"#007F00\", \"#FF0000\", \"#000000\", \"#FF0000\", \"#000000\", \"#000000\", \"#000000\", \"#FF0000\", \"#007F00\", \"#007F00\", \"#FF0000\", \"#FF0000\", \"#007F00\", \"#FF0000\", \"#000000\", \"#FF0000\", \"#FF0000\", \"#007F00\", \"#FF0000\", \"#007F00\", \"#FF0000\", \"#FF0000\", \"#FF0000\", \"#FF0000\", \"#000000\", \"#FF0000\", \"#007F00\", \"#FF0000\", \"#007F00\", \"#FF0000\"], \"edgewidths\": [1.0], \"offsetcoordinates\": \"data\", \"pathcoordinates\": \"display\", \"zorder\": 1, \"id\": \"el420961876742442232\"}], \"images\": [], \"sharex\": [], \"sharey\": []}], \"data\": {\"data01\": [[36.0, 32.0], [19.0, 25.0], [38.0, 38.0], [31.0, 36.0], [36.0, 46.0], [26.0, 33.0], [45.0, 57.0], [18.0, 16.0], [37.0, 25.0], [21.0, 32.0], [33.0, 28.0], [28.0, 36.0], [47.0, 41.0], [27.0, 28.0], [43.0, 40.0], [43.0, 52.0], [33.0, 19.0], [20.0, 23.0], [12.0, 11.0], [44.0, 57.0], [35.0, 38.0], [36.0, 37.0], [25.0, 25.0], [12.0, 17.0], [17.0, 10.0], [59.0, 42.0], [21.0, 30.0], [13.0, 20.0], [14.0, 11.0], [43.0, 59.0], [17.0, 18.0], [21.0, 29.0], [62.0, 86.0], [41.0, 20.0], [27.0, 31.0], [28.0, 20.0], [34.0, 38.0], [15.0, 20.0], [59.0, 70.0], [51.0, 65.0], [28.0, 26.0], [12.0, 17.0], [26.0, 22.0], [14.0, 17.0], [28.0, 18.0], [24.0, 33.0]]}, \"id\": \"el420961876724004232\", \"plugins\": [{\"type\": \"reset\"}, {\"type\": \"zoom\", \"button\": true, \"enabled\": false}, {\"type\": \"boxzoom\", \"button\": true, \"enabled\": false}, {\"type\": \"tooltip\", \"id\": \"el420961876742442232\", \"labels\": [\"Abuk(36, 32)\", \"Alex(19, 25)\", \"Anders(38, 38)\", \"Arba(31, 36)\", \"Argon(36, 46)\", \"Berenton(26, 33)\", \"Churizo(45, 57)\", \"Clarke(18, 16)\", \"Cob(37, 25)\", \"Crystal(21, 32)\", \"Dachi(33, 28)\", \"Delta(28, 36)\", \"Dulabu(47, 41)\", \"Dvdesa(27, 28)\", \"Eistee(43, 40)\", \"Flo(43, 52)\", \"Freghar(33, 19)\", \"Goat(20, 23)\", \"Hadassa(12, 11)\", \"Henrik(44, 57)\", \"Highway(35, 38)\", \"Jash(36, 37)\", \"John(25, 25)\", \"Karl(12, 17)\", \"Lastmikoi(17, 10)\", \"Mother(59, 42)\", \"Ozzie(21, 30)\", \"Pantoufle(13, 20)\", \"Price(14, 11)\", \"Racoon(43, 59)\", \"Ryujin(17, 18)\", \"Sallal(21, 29)\", \"Seb(62, 86)\", \"Shails(41, 20)\", \"Shakan(27, 31)\", \"Shiny(28, 20)\", \"Skippy(34, 38)\", \"Smehlik(15, 20)\", \"Stuka(59, 70)\", \"Teddy(51, 65)\", \"Tropical(28, 26)\", \"Volken(12, 17)\", \"Xander(26, 22)\", \"Xerses(14, 17)\", \"Zjosua(28, 18)\", \"zcribe(24, 33)\"], \"hoffset\": 0, \"voffset\": 10, \"location\": \"mouse\"}]});\n",
       "            })\n",
       "         });\n",
       "}\n",
       "</script>"
      ],
      "text/plain": [
       "<IPython.core.display.HTML object>"
      ]
     },
     "execution_count": 46,
     "metadata": {},
     "output_type": "execute_result"
    }
   ],
   "source": [
    "import matplotlib.pyplot as plt\n",
    "import mpld3\n",
    "\n",
    "fig, ax = plt.subplots(figsize=(12, 12),subplot_kw=dict(facecolor ='#EEEEEE'))\n",
    "l = list() #Labels\n",
    "x = list() #y-Values\n",
    "y = list() #y-Values\n",
    "c = list() #Colors\n",
    "\n",
    "#Data For Plotting\n",
    "for player in players:\n",
    "    l.append(player[0] + \"(\" + str(player[1]) + \", \" + str(player[2]) + \")\")\n",
    "    x.append(player[1])\n",
    "    y.append(player[2])\n",
    "    if player[2]/player[1] >= 1.10:\n",
    "        c.append(\"r\")\n",
    "    elif player[2]/player[1] >= 0.90:\n",
    "        c.append(\"k\")\n",
    "    else:\n",
    "        c.append(\"g\")\n",
    "\n",
    "#Plot\n",
    "#ax.plot((10, 10), (90, 90), 'k-', 100)\n",
    "scatter = ax.scatter(x,\n",
    "                     y,\n",
    "                     c=c,\n",
    "                     s=100,\n",
    "                     alpha=0.3,\n",
    "                     cmap=plt.cm.jet)\n",
    "\n",
    "#Desciption\n",
    "ax.set_title(\"Operations/Deaths - Scatter Plot of all players\", size=20)\n",
    "plt.xlabel('Operations')\n",
    "plt.ylabel('Deaths')\n",
    "\n",
    "#Link Tooltips\n",
    "tooltip = mpld3.plugins.PointLabelTooltip(scatter, labels=l)\n",
    "mpld3.plugins.connect(fig, tooltip)\n",
    "\n",
    "mpld3.display()"
   ]
  },
  {
   "cell_type": "markdown",
   "metadata": {},
   "source": [
    "The following cell will display the playerdata for a given player."
   ]
  },
  {
   "cell_type": "code",
   "execution_count": 85,
   "metadata": {},
   "outputs": [
    {
     "name": "stdout",
     "output_type": "stream",
     "text": [
      "Name: Flo\n",
      "Operations: 43\n",
      "Deaths: 52\n",
      "Death Ratio: 1.21\n",
      "Roles:\n",
      "   Role: AR\t(5)\n",
      "   Role: Leader\t(12)\n",
      "   Role: Man\t(21)\n",
      "   Role: AT\t(3)\n",
      "   Role: Officer\t(1)\n",
      "Operations:\n",
      "   abramia\t 2017-09-05\t(0)\n",
      "   abramia\t 2017-09-05\t(0)\n",
      "   abramia\t 2017-10-13\t(4)\n",
      "   abramia\t 2018-03-30\t(1)\n",
      "   Abramia\t 2018-04-03\t(1)\n",
      "   Altis\t 2017-08-29\t(1)\n",
      "   Altis\t 2017-09-22\t(1)\n",
      "   Altis\t 2017-10-02\t(6)\n",
      "   chernarus_summer\t 2018-03-06\t(2)\n",
      "   eden\t 2017-08-25\t(1)\n",
      "   eden\t 2017-12-01\t(1)\n",
      "   fallujah\t 2017-11-21\t(1)\n",
      "   FDF_Isle1_a\t 2017-09-15\t(0)\n",
      "   IslaDuala3\t 2017-11-10\t(1)\n",
      "   IslaDuala3\t 2018-02-06\t(0)\n",
      "   isladuala3\t 2018-04-06\t(1)\n",
      "   isladuala3\t 2018-04-06\t(1)\n",
      "   isladuala3\t 2018-04-17\t(1)\n",
      "   lingor3\t 2017-08-22\t(0)\n",
      "   Malden\t 2017-12-22\t(1)\n",
      "   Malden\t 2018-03-20\t(0)\n",
      "   Mountains_ACR\t 2018-02-16\t(1)\n",
      "   Panthera3\t 2018-01-26\t(1)\n",
      "   Panthera3\t 2018-02-02\t(4)\n",
      "   Panthera3\t 2018-02-09\t(0)\n",
      "   panthera3\t 2018-02-27\t(0)\n",
      "   panthera3\t 2018-03-09\t(0)\n",
      "   panthera3\t 2018-04-13\t(1)\n",
      "   Sara_dbe1\t 2017-10-06\t(2)\n",
      "   Sara_dbe1\t 2017-11-24\t(2)\n",
      "   Sara_dbe1\t 2017-12-15\t(1)\n",
      "   Sara_dbe1\t 2018-02-23\t(1)\n",
      "   Sara_dbe1\t 2018-03-23\t(0)\n",
      "   Shapur_BAF\t 2018-03-15\t(0)\n",
      "   Takistan\t 2017-10-10\t(0)\n",
      "   takistan\t 2018-03-13\t(1)\n",
      "   Takistan\t 2018-03-16\t(0)\n",
      "   ThirskW\t 2017-12-19\t(3)\n",
      "   utes\t 2017-09-12\t(2)\n",
      "   Winthera3\t 2017-11-17\t(1)\n",
      "   Winthera3\t 2018-01-09\t(0)\n",
      "   Winthera3\t 2018-01-12\t(3)\n",
      "   Woodland_ACR\t 2018-03-27\t(5)\n"
     ]
    }
   ],
   "source": [
    "name = \"Flo\"\n",
    "\n",
    "#from IPython.display import HTML, display\n",
    "import sqlite3\n",
    "\n",
    "odata = list()\n",
    "rdata = list()\n",
    "\n",
    "#Get Data From SQLite File\n",
    "conn = sqlite3.connect('stats.sqlite')\n",
    "c = conn.cursor()\n",
    "for row in c.execute(\"SELECT * FROM Players WHERE Player = '%s'\" % name):\n",
    "    pdata = row\n",
    "for row in c.execute(\"SELECT * FROM Operations WHERE Player = '%s'\" % name):\n",
    "    odata.append(row)\n",
    "for row in c.execute(\"SELECT * FROM Roles WHERE Player = '%s'\" % name):\n",
    "    rdata.append(row)\n",
    "conn.close()\n",
    "\n",
    "#Display Data\n",
    "print(\"Name: \" + pdata[0])\n",
    "print(\"Operations: \" + str(pdata[1]))\n",
    "print(\"Deaths: \" + str(pdata[2]))\n",
    "print(\"Death Ratio: %.2f\" % (pdata[2]/pdata[1]))\n",
    "\n",
    "print(\"Roles:\")\n",
    "for role in rdata:\n",
    "    print(\"   Role: \" + str(role[1])+\"\\t(\" + str(role[2])+\")\")\n",
    "\n",
    "print(\"Operations:\")\n",
    "for op in odata:\n",
    "    print(\"   \" + str(op[1]) + \"\\t\" + str(op[2])+\"\\t(\" + str(op[3])+\")\")\n"
   ]
  },
  {
   "cell_type": "markdown",
   "metadata": {},
   "source": [
    "## Display Full Database"
   ]
  },
  {
   "cell_type": "markdown",
   "metadata": {},
   "source": [
    "The following cell will display the stats of all players [PlayerName, Operations, Deaths]"
   ]
  },
  {
   "cell_type": "code",
   "execution_count": null,
   "metadata": {},
   "outputs": [],
   "source": [
    "from IPython.display import HTML, display\n",
    "display(HTML(\n",
    "    '<table class=\\\"playerTable\\\"><tr><th>Player</th><th>Operations</th><th>Deaths</th></tr>'+\n",
    "    '<tr>{}</tr></table>'.format(\n",
    "        '</tr><tr>'.join(\n",
    "            '<td>{}</td>'.format('</td><td>'.join(str(_) for _ in player)) for player in players)\n",
    "    )\n",
    " ))"
   ]
  },
  {
   "cell_type": "markdown",
   "metadata": {},
   "source": [
    "The following cell will display all operations played by each player"
   ]
  },
  {
   "cell_type": "code",
   "execution_count": null,
   "metadata": {},
   "outputs": [],
   "source": [
    "from IPython.display import HTML, display\n",
    "display(HTML(\n",
    "    '<table class=\\\"playerTable\\\"><tr><th>Player</th><th>OperationName</th><th>OperationDate</th><th>OperationDeaths</th></tr>'+\n",
    "    '<tr>{}</tr></table>'.format(\n",
    "        '</tr><tr>'.join(\n",
    "            '<td>{}</td>'.format('</td><td>'.join(str(_) for _ in operation)) for operation in operations)\n",
    "    )\n",
    " ))"
   ]
  },
  {
   "cell_type": "markdown",
   "metadata": {},
   "source": [
    "The following cell will display all roles played by each player"
   ]
  },
  {
   "cell_type": "code",
   "execution_count": null,
   "metadata": {},
   "outputs": [],
   "source": [
    "from IPython.display import HTML, display\n",
    "display(HTML(\n",
    "    '<table class=\\\"playerTable\\\"><tr><th>Player</th><th>Role</th><th>Times Played</th></tr>'+\n",
    "    '<tr>{}</tr></table>'.format(\n",
    "        '</tr><tr>'.join(\n",
    "            '<td>{}</td>'.format('</td><td>'.join(str(_) for _ in role)) for role in roles)\n",
    "    )\n",
    " ))"
   ]
  },
  {
   "cell_type": "code",
   "execution_count": null,
   "metadata": {},
   "outputs": [],
   "source": []
  }
 ],
 "metadata": {
  "kernelspec": {
   "display_name": "Python 3",
   "language": "python",
   "name": "python3"
  },
  "language_info": {
   "codemirror_mode": {
    "name": "ipython",
    "version": 3
   },
   "file_extension": ".py",
   "mimetype": "text/x-python",
   "name": "python",
   "nbconvert_exporter": "python",
   "pygments_lexer": "ipython3",
   "version": "3.6.4"
  }
 },
 "nbformat": 4,
 "nbformat_minor": 2
}
