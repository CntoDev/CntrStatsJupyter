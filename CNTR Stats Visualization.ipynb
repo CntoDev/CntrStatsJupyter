{
 "cells": [
  {
   "cell_type": "markdown",
   "metadata": {},
   "source": [
    "# CNTR Stats Visualization"
   ]
  },
  {
   "cell_type": "markdown",
   "metadata": {},
   "source": [
    "## Instructions"
   ]
  },
  {
   "cell_type": "markdown",
   "metadata": {},
   "source": [
    "Instruction: \n",
    "1. Run the code cell 1 - 3\n",
    "2. Run other cells afterwards to visualize data"
   ]
  },
  {
   "cell_type": "code",
   "execution_count": null,
   "metadata": {
    "scrolled": true
   },
   "outputs": [],
   "source": [
    "from IPython.core.display import HTML\n",
    "def css_styling():\n",
    "    styles = open(\"./css/style.css\", \"r\").read()\n",
    "    return HTML(styles)\n",
    "css_styling()"
   ]
  },
  {
   "cell_type": "code",
   "execution_count": null,
   "metadata": {},
   "outputs": [],
   "source": [
    "import sqlite3\n",
    "\n",
    "players = list()\n",
    "operations = list()\n",
    "roles = list()\n",
    "\n",
    "conn = sqlite3.connect('stats.sqlite')\n",
    "c = conn.cursor()\n",
    "for row in c.execute('SELECT * FROM Players ORDER BY Player'):\n",
    "    players.append(row)\n",
    "for row in c.execute('SELECT * FROM Operations ORDER BY Player'):\n",
    "    operations.append(row)\n",
    "for row in c.execute('SELECT * FROM Roles ORDER BY Player'):\n",
    "    roles.append(row)\n",
    "conn.close()"
   ]
  },
  {
   "cell_type": "markdown",
   "metadata": {},
   "source": [
    "The following cell is a fix for mpld3 which relies on the NumpyEncoder. mpld3 is no longer actively developed and is using an outed version of numpys encoder."
   ]
  },
  {
   "cell_type": "code",
   "execution_count": null,
   "metadata": {},
   "outputs": [],
   "source": [
    "#mpld3 - numpy FIX\n",
    "import json\n",
    "\n",
    "class NumpyEncoder(json.JSONEncoder):\n",
    "    \"\"\" Special json encoder for numpy types \"\"\"\n",
    "    def default(self, obj):\n",
    "        if isinstance(obj, (numpy.int_, numpy.intc, numpy.intp, numpy.int8,\n",
    "            numpy.int16, numpy.int32, numpy.int64, numpy.uint8,\n",
    "            numpy.uint16,numpy.uint32, numpy.uint64)):\n",
    "            return int(obj)\n",
    "        elif isinstance(obj, (numpy.float_, numpy.float16, numpy.float32, \n",
    "            numpy.float64)):\n",
    "            return float(obj)\n",
    "        elif isinstance(obj,(numpy.ndarray,)): #### This is the fix\n",
    "            return obj.tolist()\n",
    "        return json.JSONEncoder.default(self, obj)\n",
    "class NumpyEncoder(json.JSONEncoder):\n",
    "    def default(self, obj):\n",
    "        import numpy as np\n",
    "        if isinstance(obj, np.ndarray):\n",
    "            return obj.tolist()\n",
    "        return json.JSONEncoder.default(self, obj)\n",
    "from mpld3 import _display\n",
    "_display.NumpyEncoder = NumpyEncoder"
   ]
  },
  {
   "cell_type": "markdown",
   "metadata": {},
   "source": [
    "## Data Visualization"
   ]
  },
  {
   "cell_type": "markdown",
   "metadata": {},
   "source": [
    "The following cell will display a scatter plot of the Operations/Deaths for every player. You might need to run this cell twice because it may not be formatted correctly on the first run."
   ]
  },
  {
   "cell_type": "code",
   "execution_count": null,
   "metadata": {},
   "outputs": [],
   "source": [
    "import matplotlib.pyplot as plt\n",
    "import mpld3\n",
    "\n",
    "fig, ax = plt.subplots(figsize=(12, 12),subplot_kw=dict(facecolor ='#EEEEEE'))\n",
    "l = list() #Labels\n",
    "x = list() #y-Values\n",
    "y = list() #y-Values\n",
    "c = list() #Colors\n",
    "\n",
    "#Data For Plotting\n",
    "for player in players:\n",
    "    l.append(player[0] + \"(\" + str(player[1]) + \", \" + str(player[2]) + \")\")\n",
    "    x.append(player[1])\n",
    "    y.append(player[2])\n",
    "    if player[2]/player[1] >= 1.10:\n",
    "        c.append(\"r\")\n",
    "    elif player[2]/player[1] >= 0.90:\n",
    "        c.append(\"k\")\n",
    "    else:\n",
    "        c.append(\"g\")\n",
    "\n",
    "#Plot\n",
    "#ax.plot((10, 10), (90, 90), 'k-', 100)\n",
    "scatter = ax.scatter(x,\n",
    "                     y,\n",
    "                     c=c,\n",
    "                     s=100,\n",
    "                     alpha=0.3,\n",
    "                     cmap=plt.cm.jet)\n",
    "\n",
    "#Desciption\n",
    "ax.set_title(\"Operations/Deaths - Scatter Plot of all players\", size=20)\n",
    "plt.xlabel('Operations')\n",
    "plt.ylabel('Deaths')\n",
    "\n",
    "#Link Tooltips\n",
    "tooltip = mpld3.plugins.PointLabelTooltip(scatter, labels=l)\n",
    "mpld3.plugins.connect(fig, tooltip)\n",
    "\n",
    "mpld3.display()"
   ]
  },
  {
   "cell_type": "markdown",
   "metadata": {},
   "source": [
    "The following cell will display the playerdata for a given player."
   ]
  },
  {
   "cell_type": "code",
   "execution_count": null,
   "metadata": {},
   "outputs": [],
   "source": [
    "from IPython.display import clear_output\n",
    "from ipywidgets import widgets, Output\n",
    "\n",
    "textField = widgets.Text()\n",
    "display(textField)\n",
    "out = Output()\n",
    "display(out)\n",
    "\n",
    "def handle_submit(sender):\n",
    "    out.clear_output()\n",
    "    ShowPlayerData(textField.value)\n",
    "    \n",
    "textField.on_submit(handle_submit)"
   ]
  },
  {
   "cell_type": "code",
   "execution_count": null,
   "metadata": {},
   "outputs": [],
   "source": [
    "#from IPython.display import HTML, display\n",
    "import sqlite3\n",
    "\n",
    "def ShowPlayerData(name):\n",
    "    odata = list()\n",
    "    rdata = list()\n",
    "\n",
    "    #Get Data From SQLite File\n",
    "    conn = sqlite3.connect('stats.sqlite')\n",
    "    c = conn.cursor()\n",
    "    for row in c.execute(\"SELECT * FROM Players WHERE Player = '%s'\" % name):\n",
    "        pdata = row\n",
    "    for row in c.execute(\"SELECT * FROM Operations WHERE Player = '%s'\" % name):\n",
    "        odata.append(row)\n",
    "    for row in c.execute(\"SELECT * FROM Roles WHERE Player = '%s'\" % name):\n",
    "        rdata.append(row)\n",
    "    conn.close()\n",
    "\n",
    "    #Display Data\n",
    "    with out:\n",
    "        print(\"Name: \" + pdata[0])\n",
    "        print(\"Operations: \" + str(pdata[1]))\n",
    "        print(\"Deaths: \" + str(pdata[2]))\n",
    "        print(\"Death Ratio: %.2f\" % (pdata[2]/pdata[1]))\n",
    "\n",
    "        print(\"Roles:\")\n",
    "        for role in rdata:\n",
    "            print(\"   Role: \" + str(role[1])+\"\\t(\" + str(role[2])+\")\")\n",
    "\n",
    "        print(\"Operations:\")\n",
    "        for op in odata:\n",
    "            print(\"   \" + str(op[1]) + \"\\t\" + str(op[2])+\"\\t(\" + str(op[3])+\")\")\n"
   ]
  },
  {
   "cell_type": "markdown",
   "metadata": {},
   "source": [
    "## Display Full Database"
   ]
  },
  {
   "cell_type": "markdown",
   "metadata": {},
   "source": [
    "The following cell will display the stats of all players [PlayerName, Operations, Deaths]"
   ]
  },
  {
   "cell_type": "code",
   "execution_count": null,
   "metadata": {},
   "outputs": [],
   "source": [
    "from IPython.display import HTML, display\n",
    "display(HTML(\n",
    "    '<table class=\\\"playerTable\\\"><tr><th>Player</th><th>Operations</th><th>Deaths</th></tr>'+\n",
    "    '<tr>{}</tr></table>'.format(\n",
    "        '</tr><tr>'.join(\n",
    "            '<td>{}</td>'.format('</td><td>'.join(str(_) for _ in player)) for player in players)\n",
    "    )\n",
    " ))"
   ]
  },
  {
   "cell_type": "markdown",
   "metadata": {},
   "source": [
    "The following cell will display all operations played by each player"
   ]
  },
  {
   "cell_type": "code",
   "execution_count": null,
   "metadata": {},
   "outputs": [],
   "source": [
    "from IPython.display import HTML, display\n",
    "display(HTML(\n",
    "    '<table class=\\\"playerTable\\\"><tr><th>Player</th><th>OperationName</th><th>OperationDate</th><th>OperationDeaths</th></tr>'+\n",
    "    '<tr>{}</tr></table>'.format(\n",
    "        '</tr><tr>'.join(\n",
    "            '<td>{}</td>'.format('</td><td>'.join(str(_) for _ in operation)) for operation in operations)\n",
    "    )\n",
    " ))"
   ]
  },
  {
   "cell_type": "markdown",
   "metadata": {},
   "source": [
    "The following cell will display all roles played by each player"
   ]
  },
  {
   "cell_type": "code",
   "execution_count": null,
   "metadata": {},
   "outputs": [],
   "source": [
    "from IPython.display import HTML, display\n",
    "display(HTML(\n",
    "    '<table class=\\\"playerTable\\\"><tr><th>Player</th><th>Role</th><th>Times Played</th></tr>'+\n",
    "    '<tr>{}</tr></table>'.format(\n",
    "        '</tr><tr>'.join(\n",
    "            '<td>{}</td>'.format('</td><td>'.join(str(_) for _ in role)) for role in roles)\n",
    "    )\n",
    " ))"
   ]
  },
  {
   "cell_type": "code",
   "execution_count": null,
   "metadata": {},
   "outputs": [],
   "source": []
  }
 ],
 "metadata": {
  "kernelspec": {
   "display_name": "Python 3",
   "language": "python",
   "name": "python3"
  },
  "language_info": {
   "codemirror_mode": {
    "name": "ipython",
    "version": 3
   },
   "file_extension": ".py",
   "mimetype": "text/x-python",
   "name": "python",
   "nbconvert_exporter": "python",
   "pygments_lexer": "ipython3",
   "version": "3.6.4"
  }
 },
 "nbformat": 4,
 "nbformat_minor": 2
}
