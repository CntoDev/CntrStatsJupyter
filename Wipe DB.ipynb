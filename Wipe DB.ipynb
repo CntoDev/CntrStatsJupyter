{
 "cells": [
  {
   "cell_type": "code",
   "execution_count": null,
   "metadata": {},
   "outputs": [],
   "source": [
    "from pathlib import Path\n",
    "import os, sqlite3\n",
    "\n",
    "#Delete old file\n",
    "file = Path(\"stats.sqlite\")\n",
    "if file.is_file():\n",
    "    os.remove(file)\n",
    "    \n",
    "#Create new file + tables\n",
    "conn = sqlite3.connect('stats.sqlite')\n",
    "c = conn.cursor()\n",
    "c.execute(\n",
    "    \"\"\" CREATE TABLE IF NOT EXISTS Players (\n",
    "    Player text,\n",
    "    OperationCount int,\n",
    "    DeathCount int\n",
    "    ); \"\"\"\n",
    ")\n",
    "c.execute(\n",
    "    \"\"\" CREATE TABLE IF NOT EXISTS Operations (\n",
    "    Player text,\n",
    "    OperationName text,\n",
    "    OperationDate int,\n",
    "    OperationDuration int,\n",
    "    OperationDeaths int\n",
    "    ); \"\"\"\n",
    ")\n",
    "c.execute(\n",
    "    \"\"\" CREATE TABLE IF NOT EXISTS Roles (\n",
    "    Player text,\n",
    "    RoleName text,\n",
    "    RoleCount int\n",
    "    ); \"\"\"\n",
    ")\n",
    "conn.close()"
   ]
  },
  {
   "cell_type": "code",
   "execution_count": null,
   "metadata": {},
   "outputs": [],
   "source": []
  }
 ],
 "metadata": {
  "kernelspec": {
   "display_name": "Python 3",
   "language": "python",
   "name": "python3"
  },
  "language_info": {
   "codemirror_mode": {
    "name": "ipython",
    "version": 3
   },
   "file_extension": ".py",
   "mimetype": "text/x-python",
   "name": "python",
   "nbconvert_exporter": "python",
   "pygments_lexer": "ipython3",
   "version": "3.6.4"
  }
 },
 "nbformat": 4,
 "nbformat_minor": 2
}
