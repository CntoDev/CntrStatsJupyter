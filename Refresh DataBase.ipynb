{
 "cells": [
  {
   "cell_type": "markdown",
   "metadata": {},
   "source": [
    "# Refresh Data Base"
   ]
  },
  {
   "cell_type": "markdown",
   "metadata": {},
   "source": [
    "## Description"
   ]
  },
  {
   "cell_type": "markdown",
   "metadata": {},
   "source": [
    "..."
   ]
  },
  {
   "cell_type": "markdown",
   "metadata": {},
   "source": [
    "The following cell will completly wipe the SQLite DB."
   ]
  },
  {
   "cell_type": "code",
   "execution_count": null,
   "metadata": {},
   "outputs": [],
   "source": [
    "import requests, sqlite3\n",
    "\n",
    "def ParseCntrFile(fileData):\n",
    "    r = requests.get(\"http://priv.carpenoctem.co/cntr/data/\" + fileData[\"captureFileName\"])\n",
    "\n",
    "    #Get Players\n",
    "    players = {}\n",
    "    for line in r.text.splitlines():\n",
    "        for event in line.split(';'):\n",
    "            if event.startswith('U'):\n",
    "                part = event.split(',')\n",
    "                if part[9] == '1':\n",
    "                    pId = part[1]\n",
    "                    pName = part[3]\n",
    "                    pRole = part[2]\n",
    "                    pSquad = part[7]\n",
    "                    if pName not in players:\n",
    "                        players[pId] = {\"Name\": pName, \"Role\": pRole, \"Squad\": pSquad, \"Deaths\": 0, \"Kills\": 0}\n",
    "                        #print(players[pId][\"Name\"])\n",
    "    \n",
    "    #Merge Duplicates\n",
    "    delList = list()\n",
    "    for key,val in players.items():\n",
    "        count = 0\n",
    "        for k,v in players.items():\n",
    "            if val[\"Name\"] == v[\"Name\"]:\n",
    "                count += 1\n",
    "            if count > 1:\n",
    "                players[key][\"Deaths\"] = players[k][\"Deaths\"]\n",
    "                players[key][\"Kills\"] = players[k][\"Kills\"]\n",
    "                delList.append(k)\n",
    "    for key in delList:\n",
    "        players.pop(key, None)\n",
    "    #print(players)\n",
    "                \n",
    "    \n",
    "    #Get Deaths\n",
    "    deaths = {}\n",
    "    kills = {}\n",
    "    for line in r.text.splitlines():\n",
    "        for event in line.split(';'):\n",
    "            if event.startswith('K'):\n",
    "                part = event.split(',')\n",
    "\n",
    "                #Player Deaths\n",
    "                if part[1] in players:\n",
    "                    if part[1] not in deaths:\n",
    "                        deaths[part[1]] = 1\n",
    "                    else:\n",
    "                        deaths[part[1]] += 1\n",
    "                    #print(part[1])\n",
    "\n",
    "                #Player Kills        \n",
    "                if len(event.split(',')) >= 3 and event.split(',')[2] in players:\n",
    "                    if part[2] in players:\n",
    "                        if part[2] not in kills:\n",
    "                            kills[part[2]] = 1\n",
    "                        else:\n",
    "                            kills[part[2]] += 1\n",
    "\n",
    "    #Merge Dictonaries\n",
    "    for pId, val in deaths.items():\n",
    "        players[pId][\"Deaths\"] = val\n",
    "\n",
    "    for pId, val in kills.items():\n",
    "        players[pId][\"Kills\"] = val\n",
    "\n",
    "    #Write to DB\n",
    "    WriteToDB(players, fileData)"
   ]
  },
  {
   "cell_type": "code",
   "execution_count": null,
   "metadata": {},
   "outputs": [],
   "source": [
    "import sqlite3\n",
    "\n",
    "def WriteToDB(pDic, jData):\n",
    "    conn = sqlite3.connect('stats.sqlite')\n",
    "    c = conn.cursor()\n",
    "    tDeaths = 0\n",
    "    \n",
    "    #Players\n",
    "    for key,val in pDic.items():\n",
    "        tDeaths += val[\"Deaths\"]\n",
    "        c.execute('SELECT 1 FROM Players WHERE Player=? LIMIT 1', (val[\"Name\"],))\n",
    "        exist = c.fetchone() is not None\n",
    "        if exist == 0:\n",
    "            c.execute(\"INSERT into Players values (?,?,?)\", (val[\"Name\"],1,val[\"Deaths\"],))\n",
    "        else:\n",
    "            c.execute(\"UPDATE Players SET OperationCount = OperationCount + 1, DeathCount = DeathCount + ? WHERE Player = ?\", (val[\"Deaths\"], val[\"Name\"]))\n",
    "    conn.commit()\n",
    "    \n",
    "    #Operations\n",
    "    for key,val in pDic.items():\n",
    "        c.execute(\"INSERT into Operations values (?,?,?,?,?)\", (val[\"Name\"],jData[\"missionName\"],jData[\"date\"],jData[\"duration\"],tDeaths,))\n",
    "    conn.commit()\n",
    "    \n",
    "    #Roles\n",
    "    for key,val in pDic.items():\n",
    "        c.execute('SELECT 1 FROM Roles WHERE Player=? AND RoleName=? LIMIT 1', (val[\"Name\"],val[\"Role\"],))\n",
    "        exist = c.fetchone() is not None\n",
    "        if exist == 0:\n",
    "            c.execute(\"INSERT into Roles values (?,?,?)\", (val[\"Name\"],val[\"Role\"],1,))\n",
    "        else:\n",
    "            c.execute(\"UPDATE Roles SET RoleCount = RoleCount + 1 WHERE Player=? AND RoleName=?\", (val[\"Name\"],val[\"Role\"],))\n",
    "            \n",
    "    conn.commit()\n",
    "    conn.close()"
   ]
  },
  {
   "cell_type": "code",
   "execution_count": null,
   "metadata": {},
   "outputs": [],
   "source": [
    "import requests, sqlite3\n",
    "\n",
    "r = requests.get(\"http://priv.carpenoctem.co/cntr/data/index.json\")\n",
    "\n",
    "for data in r.json():\n",
    "    if data[\"missionName\"] != \"Mess Around\" and data[\"missionName\"].find(\"Training\",0) == -1 and data[\"duration\"] > 1800:\n",
    "        #Check DB for mission\n",
    "        conn = sqlite3.connect('stats.sqlite')\n",
    "        c = conn.cursor()\n",
    "        c.execute('SELECT 1 FROM Operations WHERE OperationName=? AND OperationDate=? LIMIT 1', (data[\"missionName\"],data[\"date\"]))\n",
    "        exist = c.fetchone() is not None\n",
    "        conn.close()\n",
    "        \n",
    "        if exist == 0:\n",
    "            print(\"Adding \" + data[\"missionName\"] + \" to the database...\")\n",
    "            ParseCntrFile(data)"
   ]
  }
 ],
 "metadata": {
  "kernelspec": {
   "display_name": "Python 3",
   "language": "python",
   "name": "python3"
  },
  "language_info": {
   "codemirror_mode": {
    "name": "ipython",
    "version": 3
   },
   "file_extension": ".py",
   "mimetype": "text/x-python",
   "name": "python",
   "nbconvert_exporter": "python",
   "pygments_lexer": "ipython3",
   "version": "3.6.4"
  }
 },
 "nbformat": 4,
 "nbformat_minor": 2
}
